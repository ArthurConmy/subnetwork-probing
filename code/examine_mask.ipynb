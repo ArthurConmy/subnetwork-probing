{
 "cells": [
  {
   "cell_type": "code",
   "execution_count": 14,
   "metadata": {},
   "outputs": [],
   "source": [
    "import torch\n",
    "masked_state_dict = torch.load('masked_gpt2.pt')\n",
    "N=100"
   ]
  },
  {
   "cell_type": "code",
   "execution_count": 15,
   "metadata": {},
   "outputs": [
    {
     "name": "stderr",
     "output_type": "stream",
     "text": [
      "Using pad_token, but it is not set yet.\n"
     ]
    },
    {
     "name": "stdout",
     "output_type": "stream",
     "text": [
      "Loaded pretrained model gpt2 into HookedTransformer\n"
     ]
    }
   ],
   "source": [
    "from transformer_lens.HookedTransformer import HookedTransformer\n",
    "gpt2_masked = HookedTransformer.from_pretrained(is_masked=True, model_name='gpt2')"
   ]
  },
  {
   "cell_type": "code",
   "execution_count": 16,
   "metadata": {},
   "outputs": [],
   "source": [
    "from transformer_lens.ioi_dataset import IOIDataset\n",
    "\n",
    "ioi_dataset = IOIDataset(prompt_type=\"ABBA\", N=N, nb_templates=1)\n",
    "train_data = ioi_dataset.toks.long()\n"
   ]
  },
  {
   "cell_type": "code",
   "execution_count": 17,
   "metadata": {},
   "outputs": [],
   "source": [
    "def logit_diff_from_ioi_dataset(\n",
    "    logits: torch.Tensor, tokens: torch.Tensor, mean=False,\n",
    "):\n",
    "    assert tokens.shape == (\n",
    "        N,\n",
    "        16,\n",
    "    ), tokens.shape  # TODO check this is not breaking things...\n",
    "    assert len(logits.shape) == 3, logits.shape\n",
    "\n",
    "    io_labels = tokens[:, 2]\n",
    "    s_labels = tokens[:, 4]\n",
    "\n",
    "    io_logits = logits[torch.arange(N), -2, io_labels]\n",
    "    s_logits = logits[torch.arange(N), -2, s_labels]\n",
    "\n",
    "    logit_diff = io_logits - s_logits\n",
    "    if mean:\n",
    "        return logit_diff.mean()\n",
    "    else:\n",
    "        return logit_diff\n"
   ]
  },
  {
   "cell_type": "code",
   "execution_count": 27,
   "metadata": {},
   "outputs": [
    {
     "data": {
      "text/plain": [
       "tensor(20.8944, device='cuda:0', grad_fn=<MeanBackward0>)"
      ]
     },
     "execution_count": 27,
     "metadata": {},
     "output_type": "execute_result"
    }
   ],
   "source": [
    "gpt2_masked.load_state_dict(masked_state_dict)\n",
    "logit_diff_from_ioi_dataset(gpt2_masked(train_data), train_data, mean=True)"
   ]
  }
 ],
 "metadata": {
  "kernelspec": {
   "display_name": "remix",
   "language": "python",
   "name": "python3"
  },
  "language_info": {
   "codemirror_mode": {
    "name": "ipython",
    "version": 3
   },
   "file_extension": ".py",
   "mimetype": "text/x-python",
   "name": "python",
   "nbconvert_exporter": "python",
   "pygments_lexer": "ipython3",
   "version": "3.10.8"
  },
  "orig_nbformat": 4,
  "vscode": {
   "interpreter": {
    "hash": "6ad467ea6ce724cf68e3e9460a7b5d30a577b9574f7d768503ed98371d079a52"
   }
  }
 },
 "nbformat": 4,
 "nbformat_minor": 2
}
